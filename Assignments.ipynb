{
  "nbformat": 4,
  "nbformat_minor": 0,
  "metadata": {
    "colab": {
      "provenance": [],
      "authorship_tag": "ABX9TyMUh+PJMsLcmtF9GcOrkLnt",
      "include_colab_link": true
    },
    "kernelspec": {
      "name": "python3",
      "display_name": "Python 3"
    },
    "language_info": {
      "name": "python"
    }
  },
  "cells": [
    {
      "cell_type": "markdown",
      "metadata": {
        "id": "view-in-github",
        "colab_type": "text"
      },
      "source": [
        "<a href=\"https://colab.research.google.com/github/Vimlesh-Maurya/Python/blob/main/Assignments.ipynb\" target=\"_parent\"><img src=\"https://colab.research.google.com/assets/colab-badge.svg\" alt=\"Open In Colab\"/></a>"
      ]
    },
    {
      "cell_type": "code",
      "execution_count": 1,
      "metadata": {
        "id": "rmQ4P25GVgp8"
      },
      "outputs": [],
      "source": [
        "import numpy as np\n",
        "import pandas as pd\n",
        "import matplotlib.pyplot as plt\n",
        "import seaborn as sns\n",
        "from scipy.stats import norm, ttest_ind, ttest_1samp, f_oneway,shapiro, levene\n",
        "import statsmodels.api as sm\n",
        "from statsmodels.formula.api import ols"
      ]
    },
    {
      "cell_type": "code",
      "source": [
        "x1 = 41\n",
        "n1 = 195\n",
        "x2 = 351\n",
        "n2 = 605\n",
        "\n",
        "p1 = x1/n1\n",
        "p2 = x2/n2\n",
        "# print(p1,p2)\n",
        "\n",
        "p_cap = (x1+x2)/(n1+n2)\n",
        "# print(p_cap)\n",
        "\n",
        "z = (p1-p2)/np.sqrt(p_cap*(1-p_cap)*(1/n1+1/n2))\n",
        "print(f'z_score = {z}')\n",
        "pvalue = norm.cdf(z)*2\n",
        "print(f'pvalue = {pvalue}')\n",
        "\n",
        "if pvalue < 0.05:\n",
        "    print('Reject H0 - means there is the difference between medicins')\n",
        "else:\n",
        "    print('Accept H0 - no difference between medicines')\n"
      ],
      "metadata": {
        "colab": {
          "base_uri": "https://localhost:8080/"
        },
        "id": "ba7oPWn1XK37",
        "outputId": "d715622a-879a-49e3-ee33-f509b506e424"
      },
      "execution_count": 17,
      "outputs": [
        {
          "output_type": "stream",
          "name": "stdout",
          "text": [
            "z_score = -8.985900954503084\n",
            "pvalue = 2.566230446480293e-19\n",
            "Reject H0 - means there is the difference between medicins\n"
          ]
        }
      ]
    },
    {
      "cell_type": "code",
      "source": [
        "x1 = 40\n",
        "n1 = 180\n",
        "x2 = 60\n",
        "n2 = 200\n",
        "\n",
        "p1 = x1/n1\n",
        "p2 = x2/n2\n",
        "# print(p1,p2)\n",
        "\n",
        "p_cap = (x1+x2)/(n1+n2)\n",
        "# print(p_cap)\n",
        "\n",
        "z = (p1-p2)/np.sqrt(p_cap*(1-p_cap)*(1/n1+1/n2))\n",
        "print(f'z_score = {z}')\n",
        "pvalue = norm.cdf(z)*2\n",
        "print(f'pvalue = {pvalue}')\n",
        "\n",
        "if pvalue < 0.05:\n",
        "    print('Reject H0 - means there is the difference between engagement rates of posts by 2 accounts')\n",
        "else:\n",
        "    print('Accept H0 - no difference between 2 accounts engagament posts')"
      ],
      "metadata": {
        "colab": {
          "base_uri": "https://localhost:8080/"
        },
        "id": "WFjeThBmaPB3",
        "outputId": "6fede900-0c1b-4a31-fcbf-31146f42b8a6"
      },
      "execution_count": 18,
      "outputs": [
        {
          "output_type": "stream",
          "name": "stdout",
          "text": [
            "z_score = -1.7191729277636834\n",
            "pvalue = 0.08558288874449103\n",
            "Accept H0 - no difference between 2 accounts engagament posts\n"
          ]
        }
      ]
    },
    {
      "cell_type": "code",
      "source": [],
      "metadata": {
        "id": "xlJfYJPBi67m"
      },
      "execution_count": null,
      "outputs": []
    }
  ]
}